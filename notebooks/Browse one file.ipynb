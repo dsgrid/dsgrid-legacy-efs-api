{
 "cells": [
  {
   "cell_type": "code",
   "execution_count": null,
   "id": "334552fc",
   "metadata": {},
   "outputs": [],
   "source": [
    "from pathlib import Path\n",
    "\n",
    "import numpy as np\n",
    "import pandas as pd\n",
    "\n",
    "from dsgrid.dataformat.datafile import Datafile\n",
    "from dsgrid.dataformat.datatable import Datatable\n",
    "\n",
    "from ntbkhelp import OptionPresenter, show_enum, show_elements_with_data"
   ]
  },
  {
   "cell_type": "markdown",
   "id": "ff807b42",
   "metadata": {},
   "source": [
    "## Choose data location\n",
    "\n",
    "Review the choices in the first cell, select the path you want to use in the second cell, and run both cells."
   ]
  },
  {
   "cell_type": "code",
   "execution_count": null,
   "id": "9ca29d99",
   "metadata": {},
   "outputs": [],
   "source": [
    "dsgrid_nrel_base_path_windows = Path(\"//nrelnas01/PLEXOS/Projects/Load/dsgrid_v0.2.0/\")\n",
    "dsgrid_nrel_base_path_mac = Path(\"/Volumes/PLEXOS/Projects/Load/dsgrid_v0.2.0/\")\n",
    "dsgrid_oedi_base_path = None"
   ]
  },
  {
   "cell_type": "code",
   "execution_count": null,
   "id": "28c5d4ef",
   "metadata": {},
   "outputs": [],
   "source": [
    "dsgrid_base_path = dsgrid_nrel_base_path_windows"
   ]
  },
  {
   "cell_type": "markdown",
   "id": "73396a5e",
   "metadata": {},
   "source": [
    "## Choose data set\n",
    "\n",
    "Select whether you want to look at county-level or state-level data in the second cell. Run both cells."
   ]
  },
  {
   "cell_type": "code",
   "execution_count": null,
   "id": "9d54fe6b",
   "metadata": {},
   "outputs": [],
   "source": [
    "dsgrid_county_dataset_path = dsgrid_base_path / \"products\" / \"raw_complete\"\n",
    "dsgrid_state_dataset_path = dsgrid_base_path / \"products\" / \"state_hourly_residuals\""
   ]
  },
  {
   "cell_type": "code",
   "execution_count": null,
   "id": "fad53c05",
   "metadata": {},
   "outputs": [],
   "source": [
    "dsgrid_dataset_path = dsgrid_county_dataset_path"
   ]
  },
  {
   "cell_type": "markdown",
   "id": "bb507109",
   "metadata": {},
   "source": [
    "## Specify a local directory for any outputs\n",
    "\n",
    "Review and edit the specified path. (The default option should be available for most everyone, but feel to change as you see fit.) Then run the cell."
   ]
  },
  {
   "cell_type": "code",
   "execution_count": null,
   "id": "ca09675f",
   "metadata": {},
   "outputs": [],
   "source": [
    "output_dir = Path.home() / \"Documents\" / \"dsgrid-legacy-efs\"\n",
    "\n",
    "if not output_dir.exists():\n",
    "    input_str = input(f\"{output_dir!r} does not exist. Would you like to create it? [Y/n] \")\n",
    "    if input_str[0].lower() == \"y\":\n",
    "        output_dir.mkdir()\n",
    "        print(f\"Created {output_dir!r}.\")"
   ]
  },
  {
   "cell_type": "markdown",
   "id": "aadf2b1e",
   "metadata": {},
   "source": [
    "## Choose a file"
   ]
  },
  {
   "cell_type": "code",
   "execution_count": null,
   "id": "deef99c8",
   "metadata": {},
   "outputs": [],
   "source": [
    "files = [p.name for p in dsgrid_dataset_path.glob(\"*.dsg\")]\n",
    "options = OptionPresenter(files)\n",
    "options.present_options()\n",
    "input_str = input(\"Which file would you like to examine (input number)? \")\n",
    "datafile = Datafile.load(dsgrid_dataset_path / options.get_option(input_str))"
   ]
  },
  {
   "cell_type": "markdown",
   "id": "b6388d54",
   "metadata": {},
   "source": [
    "## Examine Basic Information"
   ]
  },
  {
   "cell_type": "code",
   "execution_count": null,
   "id": "22e09364",
   "metadata": {},
   "outputs": [],
   "source": [
    "show_enum(datafile.sector_enum)"
   ]
  },
  {
   "cell_type": "code",
   "execution_count": null,
   "id": "7665a3c7",
   "metadata": {},
   "outputs": [],
   "source": [
    "show_elements_with_data(datafile.sector_enum, list(datafile.keys()))"
   ]
  },
  {
   "cell_type": "code",
   "execution_count": null,
   "id": "087a3f37",
   "metadata": {},
   "outputs": [],
   "source": [
    "show_enum(datafile.geo_enum)"
   ]
  },
  {
   "cell_type": "markdown",
   "id": "113a8427",
   "metadata": {},
   "source": [
    "⚠️ **WARNING** ⚠️ The next cell may take a few minutes to run if the geography is counties"
   ]
  },
  {
   "cell_type": "code",
   "execution_count": null,
   "id": "759fe607",
   "metadata": {},
   "outputs": [],
   "source": [
    "geo_ids = []\n",
    "for _id in datafile.geo_enum.ids:\n",
    "    for sector_id in datafile:\n",
    "        if datafile[sector_id].has_data(_id):\n",
    "            geo_ids.append(_id)\n",
    "            break\n",
    "show_elements_with_data(datafile.geo_enum, geo_ids)"
   ]
  },
  {
   "cell_type": "code",
   "execution_count": null,
   "id": "9bf21342",
   "metadata": {},
   "outputs": [],
   "source": [
    "show_enum(datafile.enduse_enum)"
   ]
  },
  {
   "cell_type": "code",
   "execution_count": null,
   "id": "49a9d0ba",
   "metadata": {},
   "outputs": [],
   "source": [
    "for sector_id in datafile:\n",
    "    df, _geo_ids, _scaling_factors = datafile[sector_id].get_data(0)\n",
    "    break\n",
    "show_elements_with_data(datafile.enduse_enum, list(df.columns))"
   ]
  },
  {
   "cell_type": "code",
   "execution_count": null,
   "id": "ca3ccfbd",
   "metadata": {},
   "outputs": [],
   "source": [
    "show_enum(datafile.time_enum)"
   ]
  },
  {
   "cell_type": "markdown",
   "id": "ab2f020b",
   "metadata": {},
   "source": [
    "## Get Total Energy per Sector and Enduse with Datatable\n",
    "\n",
    "⚠️ **WARNING** ⚠️ This cell may be slow and/or run out of memory for large files / county level data (e.g., commercial.dsg, residential.dsg)"
   ]
  },
  {
   "cell_type": "code",
   "execution_count": null,
   "id": "c0a54169",
   "metadata": {},
   "outputs": [],
   "source": [
    "data_series = Datatable(datafile).data\n",
    "total_energy = data_series.reset_index().pivot_table(values=0, index=\"sector\", columns=\"enduse\", aggfunc=np.sum)\n",
    "total_energy"
   ]
  },
  {
   "cell_type": "markdown",
   "id": "0494f184",
   "metadata": {},
   "source": [
    "## Get Total Energy per Sector and Enduse by Iterating"
   ]
  },
  {
   "cell_type": "code",
   "execution_count": null,
   "id": "d35b36db",
   "metadata": {},
   "outputs": [],
   "source": [
    "total_energy = []; index = []\n",
    "for sector_id in datafile:\n",
    "    sector_dataset = datafile[sector_id]\n",
    "    sector_energy = None\n",
    "    for i in range(sector_dataset.n_geos):\n",
    "        df, geos, scaling_factors = sector_dataset.get_data(i)\n",
    "        tmp = df.sum()\n",
    "        for factor in scaling_factors:\n",
    "            if sector_energy is None:\n",
    "                sector_energy = (tmp * factor)\n",
    "            else:\n",
    "                sector_energy += (tmp * factor)\n",
    "    if sector_energy is not None:\n",
    "        total_energy.append(sector_energy.to_frame().T)\n",
    "        index.append(sector_id)\n",
    "total_energy = pd.concat(total_energy)\n",
    "total_energy.index = index\n",
    "total_energy"
   ]
  },
  {
   "cell_type": "code",
   "execution_count": null,
   "id": "08c4ee99",
   "metadata": {},
   "outputs": [],
   "source": [
    "total_energy.sum().sum() / 1.0E6"
   ]
  },
  {
   "cell_type": "markdown",
   "id": "e0dd89cf",
   "metadata": {},
   "source": [
    "## Get Total Energy per Sector and Enduse by Aggregating and Converting Units\n",
    "\n",
    "Review user input in the first cell before running this section"
   ]
  },
  {
   "cell_type": "code",
   "execution_count": null,
   "id": "c7dd1b06",
   "metadata": {},
   "outputs": [],
   "source": [
    "# Applying a map requires making a new HDF5 file on disk\n",
    "overwrite = True      # Choices: True, False\n",
    "energy_units = \"TWh\"  # Choices: kWh, MWh, GWh, TWh"
   ]
  },
  {
   "cell_type": "code",
   "execution_count": null,
   "id": "2bae05c8",
   "metadata": {},
   "outputs": [],
   "source": [
    "from dsgrid.dataformat.dimmap import FilterToSingleFuelMap, FullAggregationMap, UnitConversionMap\n",
    "from dsgrid.dataformat.enumeration import MultiFuelEndUseEnumeration, allsectors, conus, allenduses, annual\n",
    "\n",
    "mappings = [\n",
    "    ('-annual', FullAggregationMap(datafile.time_enum, annual)),\n",
    "    ('-conus', FullAggregationMap(datafile.geo_enum, conus)),\n",
    "    ('-allsectors', FullAggregationMap(datafile.sector_enum, allsectors)),    \n",
    "]\n",
    "\n",
    "# handle multi-fuel enduse enums\n",
    "enduse_enum = datafile.enduse_enum\n",
    "if isinstance(enduse_enum, MultiFuelEndUseEnumeration):\n",
    "    mappings.append(f'-electricity', FilterToSingleFuelMap(enduse_enum, 'Electricity'))\n",
    "    enduse_enum = mappings[-1][1].to_enum\n",
    "\n",
    "# handle different electricity units\n",
    "allenduses_units = allenduses.units(allenduses.ids[0])\n",
    "if not (enduse_enum.units(enduse_enum.ids[0]) == allenduses_units):\n",
    "    mappings.append(f'-{allenduses_units}', UnitConversionMap(\n",
    "        enduse_enum, \n",
    "        [enduse_enum.units(enduse_enum.ids[0])], \n",
    "        [allenduses_units]))\n",
    "    enduse_enum = mappings[-1][1].to_enum\n",
    "\n",
    "mappings.extend([\n",
    "    ('-allenduses', FullAggregationMap(enduse_enum, allenduses)),\n",
    "    (f'-{energy_units}', UnitConversionMap(allenduses, [allenduses.units(allenduses.ids[0])], [energy_units]))\n",
    "])\n",
    "\n",
    "new_datafile = datafile\n",
    "for postfix, mapping in mappings:\n",
    "    new_path = output_dir / (new_datafile.filepath.stem + postfix + new_datafile.filepath.suffix)\n",
    "    if new_path.exists() and overwrite:\n",
    "        new_path.unlink()\n",
    "    print(f\"Applying {mapping} and writing to {new_path}\\n\")\n",
    "    new_datafile = new_datafile.map_dimension(new_path, mapping)\n",
    "    \n",
    "total_energy = Datatable(new_datafile).data.sum()\n",
    "print(f\"{datafile.filepath.name} describes {total_energy} {energy_units} of electricity\")"
   ]
  },
  {
   "cell_type": "code",
   "execution_count": null,
   "id": "7ed204d7",
   "metadata": {},
   "outputs": [],
   "source": []
  }
 ],
 "metadata": {
  "kernelspec": {
   "display_name": "Python 3 (ipykernel)",
   "language": "python",
   "name": "python3"
  },
  "language_info": {
   "codemirror_mode": {
    "name": "ipython",
    "version": 3
   },
   "file_extension": ".py",
   "mimetype": "text/x-python",
   "name": "python",
   "nbconvert_exporter": "python",
   "pygments_lexer": "ipython3",
   "version": "3.9.2"
  }
 },
 "nbformat": 4,
 "nbformat_minor": 5
}
