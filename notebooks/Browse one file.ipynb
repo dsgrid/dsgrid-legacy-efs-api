{
 "cells": [
  {
   "cell_type": "code",
   "execution_count": 1,
   "id": "334552fc",
   "metadata": {},
   "outputs": [],
   "source": [
    "from pathlib import Path\n",
    "\n",
    "import numpy as np\n",
    "import pandas as pd\n",
    "\n",
    "from dsgrid.dataformat.datafile import Datafile\n",
    "from dsgrid.dataformat.datatable import Datatable\n",
    "\n",
    "from ntbkhelp import OptionPresenter, show_enum, show_elements_with_data\n",
    "\n",
    "dsgrid_dataset_path = Path(\"//nrelnas01/PLEXOS/Projects/Load/dsgrid_v0.2.0/data\")"
   ]
  },
  {
   "cell_type": "markdown",
   "id": "aadf2b1e",
   "metadata": {},
   "source": [
    "## Choose a file"
   ]
  },
  {
   "cell_type": "code",
   "execution_count": 2,
   "id": "deef99c8",
   "metadata": {},
   "outputs": [
    {
     "name": "stdout",
     "output_type": "stream",
     "text": [
      "  1: chp_dg.dsg\n",
      "  2: commercial.dsg\n",
      "  3: commercial_gaps.dsg\n",
      "  4: distributedpv_sectoral.dsg\n",
      "  5: eia_annual_energy_by_sector.dsg\n",
      "  6: eia_annual_losses.dsg\n",
      "  7: historical_hourly_load.dsg\n",
      "  8: industrial.dsg\n",
      "  9: industrial_gaps.dsg\n",
      " 10: loss_model.dsg\n",
      " 11: municipal_water.dsg\n",
      " 12: outdoor_lighting.dsg\n",
      " 13: residential.dsg\n",
      " 14: residential_gaps.dsg\n",
      " 15: trans_rail_hourly.dsg\n",
      "Which file would you like to examine? 2\n"
     ]
    }
   ],
   "source": [
    "files = [p.name for p in dsgrid_dataset_path.glob(\"*.dsg\")]\n",
    "options = OptionPresenter(files)\n",
    "options.present_options()\n",
    "input_str = input(\"Which file would you like to examine? \")\n",
    "datafile = Datafile.load(dsgrid_dataset_path / options.get_option(input_str))"
   ]
  },
  {
   "cell_type": "markdown",
   "id": "b6388d54",
   "metadata": {},
   "source": [
    "## Examine Basic Information"
   ]
  },
  {
   "cell_type": "code",
   "execution_count": null,
   "id": "22e09364",
   "metadata": {},
   "outputs": [],
   "source": [
    "show_enum(datafile.sector_enum)"
   ]
  },
  {
   "cell_type": "code",
   "execution_count": null,
   "id": "7665a3c7",
   "metadata": {},
   "outputs": [],
   "source": [
    "show_elements_with_data(datafile.sector_enum, list(datafile.keys()))"
   ]
  },
  {
   "cell_type": "code",
   "execution_count": null,
   "id": "087a3f37",
   "metadata": {},
   "outputs": [],
   "source": [
    "show_enum(datafile.geo_enum)"
   ]
  },
  {
   "cell_type": "code",
   "execution_count": null,
   "id": "759fe607",
   "metadata": {},
   "outputs": [],
   "source": [
    "# WARNING: This cell may take a few minutes to run if the geography is counties\n",
    "geo_ids = []\n",
    "for _id in datafile.geo_enum.ids:\n",
    "    for sector_id in datafile:\n",
    "        if datafile[sector_id].has_data(_id):\n",
    "            geo_ids.append(_id)\n",
    "            break\n",
    "show_elements_with_data(datafile.geo_enum, geo_ids)"
   ]
  },
  {
   "cell_type": "code",
   "execution_count": null,
   "id": "9bf21342",
   "metadata": {},
   "outputs": [],
   "source": [
    "show_enum(datafile.enduse_enum)"
   ]
  },
  {
   "cell_type": "code",
   "execution_count": null,
   "id": "49a9d0ba",
   "metadata": {},
   "outputs": [],
   "source": [
    "for sector_id in datafile:\n",
    "    df, _geo_ids, _scaling_factors = datafile[sector_id].get_data(0)\n",
    "    break\n",
    "show_elements_with_data(datafile.enduse_enum, list(df.columns))"
   ]
  },
  {
   "cell_type": "code",
   "execution_count": null,
   "id": "ca3ccfbd",
   "metadata": {},
   "outputs": [],
   "source": [
    "show_enum(datafile.time_enum)"
   ]
  },
  {
   "cell_type": "markdown",
   "id": "ab2f020b",
   "metadata": {},
   "source": [
    "## Get Total Energy per Sector and Enduse with Datatable"
   ]
  },
  {
   "cell_type": "code",
   "execution_count": null,
   "id": "c0a54169",
   "metadata": {},
   "outputs": [],
   "source": [
    "# WARNING: This cell may be slow and/or run out of memory for large files / county level data (e.g., \n",
    "# commercial.dsg, residential.dsg)\n",
    "data_series = Datatable(datafile).data\n",
    "total_energy = data_series.reset_index().pivot_table(values=0, index=\"sector\", columns=\"enduse\", aggfunc=np.sum)\n",
    "total_energy"
   ]
  },
  {
   "cell_type": "markdown",
   "id": "0494f184",
   "metadata": {},
   "source": [
    "## Get Total Energy per Sector and Enduse by Iterating"
   ]
  },
  {
   "cell_type": "code",
   "execution_count": 3,
   "id": "d35b36db",
   "metadata": {},
   "outputs": [
    {
     "data": {
      "text/html": [
       "<div>\n",
       "<style scoped>\n",
       "    .dataframe tbody tr th:only-of-type {\n",
       "        vertical-align: middle;\n",
       "    }\n",
       "\n",
       "    .dataframe tbody tr th {\n",
       "        vertical-align: top;\n",
       "    }\n",
       "\n",
       "    .dataframe thead th {\n",
       "        text-align: right;\n",
       "    }\n",
       "</style>\n",
       "<table border=\"1\" class=\"dataframe\">\n",
       "  <thead>\n",
       "    <tr style=\"text-align: right;\">\n",
       "      <th></th>\n",
       "      <th>fans</th>\n",
       "      <th>pumps</th>\n",
       "      <th>heating</th>\n",
       "      <th>cooling</th>\n",
       "      <th>interior_lights</th>\n",
       "      <th>exterior_lights</th>\n",
       "      <th>water_systems</th>\n",
       "      <th>interior_equipment</th>\n",
       "      <th>heat_rejection</th>\n",
       "    </tr>\n",
       "  </thead>\n",
       "  <tbody>\n",
       "    <tr>\n",
       "      <th>com__FullServiceRestaurant</th>\n",
       "      <td>5.592026e+06</td>\n",
       "      <td>5.593092e+04</td>\n",
       "      <td>9.139298e+05</td>\n",
       "      <td>4.633616e+06</td>\n",
       "      <td>9.906302e+06</td>\n",
       "      <td>2.767272e+06</td>\n",
       "      <td>0.0</td>\n",
       "      <td>2.221512e+07</td>\n",
       "      <td>2.024623e+04</td>\n",
       "    </tr>\n",
       "    <tr>\n",
       "      <th>com__Hospital</th>\n",
       "      <td>4.455086e+06</td>\n",
       "      <td>7.751797e+05</td>\n",
       "      <td>7.549169e+03</td>\n",
       "      <td>4.685746e+06</td>\n",
       "      <td>6.702352e+06</td>\n",
       "      <td>5.133133e+05</td>\n",
       "      <td>0.0</td>\n",
       "      <td>8.874651e+06</td>\n",
       "      <td>3.591725e+05</td>\n",
       "    </tr>\n",
       "    <tr>\n",
       "      <th>com__LargeHotel</th>\n",
       "      <td>8.412271e+06</td>\n",
       "      <td>4.632291e+05</td>\n",
       "      <td>4.993942e+05</td>\n",
       "      <td>7.993656e+06</td>\n",
       "      <td>9.188369e+06</td>\n",
       "      <td>2.308821e+06</td>\n",
       "      <td>0.0</td>\n",
       "      <td>1.467052e+07</td>\n",
       "      <td>1.641594e+05</td>\n",
       "    </tr>\n",
       "    <tr>\n",
       "      <th>com__LargeOffice</th>\n",
       "      <td>6.120055e+07</td>\n",
       "      <td>7.537129e+06</td>\n",
       "      <td>1.341884e+06</td>\n",
       "      <td>5.354156e+07</td>\n",
       "      <td>7.956575e+07</td>\n",
       "      <td>1.616527e+07</td>\n",
       "      <td>0.0</td>\n",
       "      <td>9.237318e+07</td>\n",
       "      <td>2.822176e+06</td>\n",
       "    </tr>\n",
       "    <tr>\n",
       "      <th>com__MediumOffice</th>\n",
       "      <td>1.436847e+07</td>\n",
       "      <td>7.885793e+05</td>\n",
       "      <td>7.406976e+05</td>\n",
       "      <td>1.138845e+07</td>\n",
       "      <td>1.948978e+07</td>\n",
       "      <td>6.934036e+06</td>\n",
       "      <td>0.0</td>\n",
       "      <td>2.223694e+07</td>\n",
       "      <td>2.750128e+05</td>\n",
       "    </tr>\n",
       "    <tr>\n",
       "      <th>com__Outpatient</th>\n",
       "      <td>1.503822e+06</td>\n",
       "      <td>1.695997e+05</td>\n",
       "      <td>0.000000e+00</td>\n",
       "      <td>9.865392e+05</td>\n",
       "      <td>3.726250e+06</td>\n",
       "      <td>1.334083e+06</td>\n",
       "      <td>0.0</td>\n",
       "      <td>5.502770e+06</td>\n",
       "      <td>7.595111e+04</td>\n",
       "    </tr>\n",
       "    <tr>\n",
       "      <th>com__PrimarySchool</th>\n",
       "      <td>2.240584e+06</td>\n",
       "      <td>7.669977e+04</td>\n",
       "      <td>4.206559e+05</td>\n",
       "      <td>1.870952e+06</td>\n",
       "      <td>4.758928e+06</td>\n",
       "      <td>6.122908e+05</td>\n",
       "      <td>0.0</td>\n",
       "      <td>3.796403e+06</td>\n",
       "      <td>3.673554e+04</td>\n",
       "    </tr>\n",
       "    <tr>\n",
       "      <th>com__QuickServiceRestaurant</th>\n",
       "      <td>1.740887e+05</td>\n",
       "      <td>1.145789e+03</td>\n",
       "      <td>4.317019e+03</td>\n",
       "      <td>1.255920e+05</td>\n",
       "      <td>8.780455e+04</td>\n",
       "      <td>5.153893e+04</td>\n",
       "      <td>0.0</td>\n",
       "      <td>5.210781e+05</td>\n",
       "      <td>8.612583e+02</td>\n",
       "    </tr>\n",
       "    <tr>\n",
       "      <th>com__SmallHotel</th>\n",
       "      <td>1.466056e+05</td>\n",
       "      <td>1.387005e+04</td>\n",
       "      <td>8.728184e+04</td>\n",
       "      <td>1.118608e+05</td>\n",
       "      <td>1.074873e+06</td>\n",
       "      <td>7.157537e+05</td>\n",
       "      <td>0.0</td>\n",
       "      <td>1.508302e+06</td>\n",
       "      <td>5.497838e+03</td>\n",
       "    </tr>\n",
       "    <tr>\n",
       "      <th>com__SmallOffice</th>\n",
       "      <td>1.089325e+07</td>\n",
       "      <td>8.049486e+04</td>\n",
       "      <td>1.424234e+06</td>\n",
       "      <td>8.286468e+06</td>\n",
       "      <td>1.596078e+07</td>\n",
       "      <td>6.235034e+06</td>\n",
       "      <td>0.0</td>\n",
       "      <td>2.186099e+07</td>\n",
       "      <td>4.979834e+04</td>\n",
       "    </tr>\n",
       "    <tr>\n",
       "      <th>com__StandaloneRetail</th>\n",
       "      <td>2.228565e+07</td>\n",
       "      <td>5.654109e+04</td>\n",
       "      <td>7.126312e+06</td>\n",
       "      <td>1.438932e+07</td>\n",
       "      <td>7.245549e+07</td>\n",
       "      <td>1.101604e+07</td>\n",
       "      <td>0.0</td>\n",
       "      <td>2.296143e+07</td>\n",
       "      <td>2.288227e+04</td>\n",
       "    </tr>\n",
       "    <tr>\n",
       "      <th>com__StripMall</th>\n",
       "      <td>3.824820e+07</td>\n",
       "      <td>1.308545e+05</td>\n",
       "      <td>7.583430e+06</td>\n",
       "      <td>2.207999e+07</td>\n",
       "      <td>1.707213e+08</td>\n",
       "      <td>3.487058e+07</td>\n",
       "      <td>0.0</td>\n",
       "      <td>2.481205e+07</td>\n",
       "      <td>5.406361e+04</td>\n",
       "    </tr>\n",
       "    <tr>\n",
       "      <th>com__Warehouse</th>\n",
       "      <td>7.057947e+06</td>\n",
       "      <td>4.854847e+04</td>\n",
       "      <td>6.280394e+06</td>\n",
       "      <td>1.983580e+06</td>\n",
       "      <td>2.090556e+07</td>\n",
       "      <td>1.011949e+07</td>\n",
       "      <td>0.0</td>\n",
       "      <td>8.320532e+06</td>\n",
       "      <td>2.590499e+04</td>\n",
       "    </tr>\n",
       "  </tbody>\n",
       "</table>\n",
       "</div>"
      ],
      "text/plain": [
       "                                     fans         pumps       heating  \\\n",
       "com__FullServiceRestaurant   5.592026e+06  5.593092e+04  9.139298e+05   \n",
       "com__Hospital                4.455086e+06  7.751797e+05  7.549169e+03   \n",
       "com__LargeHotel              8.412271e+06  4.632291e+05  4.993942e+05   \n",
       "com__LargeOffice             6.120055e+07  7.537129e+06  1.341884e+06   \n",
       "com__MediumOffice            1.436847e+07  7.885793e+05  7.406976e+05   \n",
       "com__Outpatient              1.503822e+06  1.695997e+05  0.000000e+00   \n",
       "com__PrimarySchool           2.240584e+06  7.669977e+04  4.206559e+05   \n",
       "com__QuickServiceRestaurant  1.740887e+05  1.145789e+03  4.317019e+03   \n",
       "com__SmallHotel              1.466056e+05  1.387005e+04  8.728184e+04   \n",
       "com__SmallOffice             1.089325e+07  8.049486e+04  1.424234e+06   \n",
       "com__StandaloneRetail        2.228565e+07  5.654109e+04  7.126312e+06   \n",
       "com__StripMall               3.824820e+07  1.308545e+05  7.583430e+06   \n",
       "com__Warehouse               7.057947e+06  4.854847e+04  6.280394e+06   \n",
       "\n",
       "                                  cooling  interior_lights  exterior_lights  \\\n",
       "com__FullServiceRestaurant   4.633616e+06     9.906302e+06     2.767272e+06   \n",
       "com__Hospital                4.685746e+06     6.702352e+06     5.133133e+05   \n",
       "com__LargeHotel              7.993656e+06     9.188369e+06     2.308821e+06   \n",
       "com__LargeOffice             5.354156e+07     7.956575e+07     1.616527e+07   \n",
       "com__MediumOffice            1.138845e+07     1.948978e+07     6.934036e+06   \n",
       "com__Outpatient              9.865392e+05     3.726250e+06     1.334083e+06   \n",
       "com__PrimarySchool           1.870952e+06     4.758928e+06     6.122908e+05   \n",
       "com__QuickServiceRestaurant  1.255920e+05     8.780455e+04     5.153893e+04   \n",
       "com__SmallHotel              1.118608e+05     1.074873e+06     7.157537e+05   \n",
       "com__SmallOffice             8.286468e+06     1.596078e+07     6.235034e+06   \n",
       "com__StandaloneRetail        1.438932e+07     7.245549e+07     1.101604e+07   \n",
       "com__StripMall               2.207999e+07     1.707213e+08     3.487058e+07   \n",
       "com__Warehouse               1.983580e+06     2.090556e+07     1.011949e+07   \n",
       "\n",
       "                             water_systems  interior_equipment  heat_rejection  \n",
       "com__FullServiceRestaurant             0.0        2.221512e+07    2.024623e+04  \n",
       "com__Hospital                          0.0        8.874651e+06    3.591725e+05  \n",
       "com__LargeHotel                        0.0        1.467052e+07    1.641594e+05  \n",
       "com__LargeOffice                       0.0        9.237318e+07    2.822176e+06  \n",
       "com__MediumOffice                      0.0        2.223694e+07    2.750128e+05  \n",
       "com__Outpatient                        0.0        5.502770e+06    7.595111e+04  \n",
       "com__PrimarySchool                     0.0        3.796403e+06    3.673554e+04  \n",
       "com__QuickServiceRestaurant            0.0        5.210781e+05    8.612583e+02  \n",
       "com__SmallHotel                        0.0        1.508302e+06    5.497838e+03  \n",
       "com__SmallOffice                       0.0        2.186099e+07    4.979834e+04  \n",
       "com__StandaloneRetail                  0.0        2.296143e+07    2.288227e+04  \n",
       "com__StripMall                         0.0        2.481205e+07    5.406361e+04  \n",
       "com__Warehouse                         0.0        8.320532e+06    2.590499e+04  "
      ]
     },
     "execution_count": 3,
     "metadata": {},
     "output_type": "execute_result"
    }
   ],
   "source": [
    "total_energy = []; index = []\n",
    "for sector_id in datafile:\n",
    "    sector_dataset = datafile[sector_id]\n",
    "    sector_energy = None\n",
    "    for i in range(sector_dataset.n_geos):\n",
    "        df, geos, scaling_factors = sector_dataset.get_data(i)\n",
    "        tmp = df.sum()\n",
    "        for factor in scaling_factors:\n",
    "            if sector_energy is None:\n",
    "                sector_energy = (tmp * factor)\n",
    "            else:\n",
    "                sector_energy += (tmp * factor)\n",
    "    if sector_energy is not None:\n",
    "        total_energy.append(sector_energy.to_frame().T)\n",
    "        index.append(sector_id)\n",
    "total_energy = pd.concat(total_energy)\n",
    "total_energy.index = index\n",
    "total_energy"
   ]
  },
  {
   "cell_type": "code",
   "execution_count": 4,
   "id": "08c4ee99",
   "metadata": {},
   "outputs": [
    {
     "data": {
      "text/plain": [
       "1107.037184"
      ]
     },
     "execution_count": 4,
     "metadata": {},
     "output_type": "execute_result"
    }
   ],
   "source": [
    "total_energy.sum().sum() / 1.0E6"
   ]
  },
  {
   "cell_type": "code",
   "execution_count": null,
   "id": "b44d8ea3",
   "metadata": {},
   "outputs": [],
   "source": []
  }
 ],
 "metadata": {
  "kernelspec": {
   "display_name": "Python 3 (ipykernel)",
   "language": "python",
   "name": "python3"
  },
  "language_info": {
   "codemirror_mode": {
    "name": "ipython",
    "version": 3
   },
   "file_extension": ".py",
   "mimetype": "text/x-python",
   "name": "python",
   "nbconvert_exporter": "python",
   "pygments_lexer": "ipython3",
   "version": "3.9.2"
  }
 },
 "nbformat": 4,
 "nbformat_minor": 5
}
