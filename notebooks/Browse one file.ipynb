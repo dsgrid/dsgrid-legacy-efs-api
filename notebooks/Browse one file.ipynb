{
 "cells": [
  {
   "cell_type": "code",
   "execution_count": 1,
   "id": "334552fc",
   "metadata": {},
   "outputs": [],
   "source": [
    "from pathlib import Path\n",
    "\n",
    "import numpy as np\n",
    "import pandas as pd\n",
    "\n",
    "from dsgrid.dataformat.datafile import Datafile\n",
    "from dsgrid.dataformat.datatable import Datatable\n",
    "\n",
    "from ntbkhelp import OptionPresenter, show_enum, show_elements_with_data\n",
    "\n",
    "dsgrid_nrel_base_path = Path(\"//nrelnas01/PLEXOS/Projects/Load/dsgrid_v0.2.0/\")\n",
    "dsgrid_oedi_base_path = None\n",
    "\n",
    "# USER INPUT ----------------------------------------\n",
    "# Choose which base path you would like to use\n",
    "dsgrid_base_path = dsgrid_nrel_base_path\n",
    "# ---------------------------------------------------\n",
    "\n",
    "dsgrid_county_dataset_path = dsgrid_base_path / \"data\"\n",
    "dsgrid_state_dataset_path = dsgrid_base_path / \"products\" / \"state_hourly_residuals\"\n",
    "\n",
    "# USER INPUT ----------------------------------------\n",
    "# Choose which dataset you would like to browse\n",
    "dsgrid_dataset_path = dsgrid_county_dataset_path\n",
    "# Specify a local directory for any outputs\n",
    "output_dir = Path.home() / \"Documents\" / \"dsgrid-legacy-efs\"\n",
    "# ---------------------------------------------------\n",
    "\n",
    "if not output_dir.exists():\n",
    "    input_str = input(f\"{output_dir!r} does not exist. Would you like to create it? [Y/n] \")\n",
    "    if input_str[0].lower() == \"y\":\n",
    "        output_dir.mkdir()\n",
    "        print(f\"Created {output_dir!r}.\")"
   ]
  },
  {
   "cell_type": "markdown",
   "id": "aadf2b1e",
   "metadata": {},
   "source": [
    "## Choose a file"
   ]
  },
  {
   "cell_type": "code",
   "execution_count": 2,
   "id": "deef99c8",
   "metadata": {},
   "outputs": [
    {
     "name": "stdout",
     "output_type": "stream",
     "text": [
      "  1: chp_dg.dsg\n",
      "  2: commercial.dsg\n",
      "  3: commercial_gaps.dsg\n",
      "  4: distributedpv_sectoral.dsg\n",
      "  5: eia_annual_energy_by_sector.dsg\n",
      "  6: eia_annual_losses.dsg\n",
      "  7: historical_hourly_load.dsg\n",
      "  8: industrial.dsg\n",
      "  9: industrial_gaps.dsg\n",
      " 10: loss_model.dsg\n",
      " 11: municipal_water.dsg\n",
      " 12: outdoor_lighting.dsg\n",
      " 13: residential.dsg\n",
      " 14: residential_gaps.dsg\n",
      " 15: trans_rail_hourly.dsg\n",
      "Which file would you like to examine? 9\n"
     ]
    }
   ],
   "source": [
    "files = [p.name for p in dsgrid_dataset_path.glob(\"*.dsg\")]\n",
    "options = OptionPresenter(files)\n",
    "options.present_options()\n",
    "input_str = input(\"Which file would you like to examine? \")\n",
    "datafile = Datafile.load(dsgrid_dataset_path / options.get_option(input_str))"
   ]
  },
  {
   "cell_type": "markdown",
   "id": "b6388d54",
   "metadata": {},
   "source": [
    "## Examine Basic Information"
   ]
  },
  {
   "cell_type": "code",
   "execution_count": null,
   "id": "22e09364",
   "metadata": {},
   "outputs": [],
   "source": [
    "show_enum(datafile.sector_enum)"
   ]
  },
  {
   "cell_type": "code",
   "execution_count": null,
   "id": "7665a3c7",
   "metadata": {},
   "outputs": [],
   "source": [
    "show_elements_with_data(datafile.sector_enum, list(datafile.keys()))"
   ]
  },
  {
   "cell_type": "code",
   "execution_count": null,
   "id": "087a3f37",
   "metadata": {},
   "outputs": [],
   "source": [
    "show_enum(datafile.geo_enum)"
   ]
  },
  {
   "cell_type": "code",
   "execution_count": null,
   "id": "759fe607",
   "metadata": {},
   "outputs": [],
   "source": [
    "# WARNING: This cell may take a few minutes to run if the geography is counties\n",
    "geo_ids = []\n",
    "for _id in datafile.geo_enum.ids:\n",
    "    for sector_id in datafile:\n",
    "        if datafile[sector_id].has_data(_id):\n",
    "            geo_ids.append(_id)\n",
    "            break\n",
    "show_elements_with_data(datafile.geo_enum, geo_ids)"
   ]
  },
  {
   "cell_type": "code",
   "execution_count": null,
   "id": "9bf21342",
   "metadata": {},
   "outputs": [],
   "source": [
    "show_enum(datafile.enduse_enum)"
   ]
  },
  {
   "cell_type": "code",
   "execution_count": null,
   "id": "49a9d0ba",
   "metadata": {},
   "outputs": [],
   "source": [
    "for sector_id in datafile:\n",
    "    df, _geo_ids, _scaling_factors = datafile[sector_id].get_data(0)\n",
    "    break\n",
    "show_elements_with_data(datafile.enduse_enum, list(df.columns))"
   ]
  },
  {
   "cell_type": "code",
   "execution_count": null,
   "id": "ca3ccfbd",
   "metadata": {},
   "outputs": [],
   "source": [
    "show_enum(datafile.time_enum)"
   ]
  },
  {
   "cell_type": "markdown",
   "id": "ab2f020b",
   "metadata": {},
   "source": [
    "## Get Total Energy per Sector and Enduse with Datatable"
   ]
  },
  {
   "cell_type": "code",
   "execution_count": null,
   "id": "c0a54169",
   "metadata": {},
   "outputs": [],
   "source": [
    "# WARNING: This cell may be slow and/or run out of memory for large files / county level data (e.g., \n",
    "# commercial.dsg, residential.dsg)\n",
    "data_series = Datatable(datafile).data\n",
    "total_energy = data_series.reset_index().pivot_table(values=0, index=\"sector\", columns=\"enduse\", aggfunc=np.sum)\n",
    "total_energy"
   ]
  },
  {
   "cell_type": "markdown",
   "id": "0494f184",
   "metadata": {},
   "source": [
    "## Get Total Energy per Sector and Enduse by Iterating"
   ]
  },
  {
   "cell_type": "code",
   "execution_count": 4,
   "id": "d35b36db",
   "metadata": {},
   "outputs": [
    {
     "data": {
      "text/html": [
       "<div>\n",
       "<style scoped>\n",
       "    .dataframe tbody tr th:only-of-type {\n",
       "        vertical-align: middle;\n",
       "    }\n",
       "\n",
       "    .dataframe tbody tr th {\n",
       "        vertical-align: top;\n",
       "    }\n",
       "\n",
       "    .dataframe thead th {\n",
       "        text-align: right;\n",
       "    }\n",
       "</style>\n",
       "<table border=\"1\" class=\"dataframe\">\n",
       "  <thead>\n",
       "    <tr style=\"text-align: right;\">\n",
       "      <th></th>\n",
       "      <th>energy_consumption</th>\n",
       "    </tr>\n",
       "  </thead>\n",
       "  <tbody>\n",
       "    <tr>\n",
       "      <th>11</th>\n",
       "      <td>36146952.0</td>\n",
       "    </tr>\n",
       "    <tr>\n",
       "      <th>21</th>\n",
       "      <td>86879200.0</td>\n",
       "    </tr>\n",
       "    <tr>\n",
       "      <th>23</th>\n",
       "      <td>63326216.0</td>\n",
       "    </tr>\n",
       "  </tbody>\n",
       "</table>\n",
       "</div>"
      ],
      "text/plain": [
       "    energy_consumption\n",
       "11          36146952.0\n",
       "21          86879200.0\n",
       "23          63326216.0"
      ]
     },
     "execution_count": 4,
     "metadata": {},
     "output_type": "execute_result"
    }
   ],
   "source": [
    "total_energy = []; index = []\n",
    "for sector_id in datafile:\n",
    "    sector_dataset = datafile[sector_id]\n",
    "    sector_energy = None\n",
    "    for i in range(sector_dataset.n_geos):\n",
    "        df, geos, scaling_factors = sector_dataset.get_data(i)\n",
    "        tmp = df.sum()\n",
    "        for factor in scaling_factors:\n",
    "            if sector_energy is None:\n",
    "                sector_energy = (tmp * factor)\n",
    "            else:\n",
    "                sector_energy += (tmp * factor)\n",
    "    if sector_energy is not None:\n",
    "        total_energy.append(sector_energy.to_frame().T)\n",
    "        index.append(sector_id)\n",
    "total_energy = pd.concat(total_energy)\n",
    "total_energy.index = index\n",
    "total_energy"
   ]
  },
  {
   "cell_type": "code",
   "execution_count": 5,
   "id": "08c4ee99",
   "metadata": {},
   "outputs": [
    {
     "data": {
      "text/plain": [
       "186.352368"
      ]
     },
     "execution_count": 5,
     "metadata": {},
     "output_type": "execute_result"
    }
   ],
   "source": [
    "total_energy.sum().sum() / 1.0E6"
   ]
  },
  {
   "cell_type": "markdown",
   "id": "e0dd89cf",
   "metadata": {},
   "source": [
    "## Get Total Energy per Sector and Enduse by Aggregating and Converting Units"
   ]
  },
  {
   "cell_type": "code",
   "execution_count": 8,
   "id": "2bae05c8",
   "metadata": {},
   "outputs": [
    {
     "name": "stdout",
     "output_type": "stream",
     "text": [
      "Applying FullAggregationMap(TimeEnumeration(standard_2012_hourly, [2012-01-01 01:00:00-05:00, ...], [2012-01-01 01:00:00-05:00, ...]), TimeEnumeration(annual, [Annual], [Annual])) and writing to C:\\Users\\ehale\\Documents\\dsgrid-legacy-efs\\industrial_gaps-annual.dsg\n",
      "\n",
      "Applying FullAggregationMap(GeographyEnumeration(counties, [01001, ...], [Autauga County, AL, ...]), GeographyEnumeration(conus, [conus], [Continental United States])) and writing to C:\\Users\\ehale\\Documents\\dsgrid-legacy-efs\\industrial_gaps-annual-conus.dsg\n",
      "\n",
      "Applying FullAggregationMap(SectorEnumeration(industrial_gaps_sectors, [11, ...], [Agriculture, Forestry, Fishing and Hunting, ...]), SectorEnumeration(all_sectors, [All], [All Sectors])) and writing to C:\\Users\\ehale\\Documents\\dsgrid-legacy-efs\\industrial_gaps-annual-conus-allsectors.dsg\n",
      "\n",
      "Applying FullAggregationMap(SingleFuelEndUseEnumeration(industrial_gaps_enduses, [energy_consumption], [Energy Consumption], fuel = 'Electricity', units = 'MWh'), SingleFuelEndUseEnumeration(all_enduses, [All], [All End-uses], fuel = 'Electricity', units = 'MWh')) and writing to C:\\Users\\ehale\\Documents\\dsgrid-legacy-efs\\industrial_gaps-annual-conus-allsectors-allenduses.dsg\n",
      "\n",
      "Applying UnitConversionMap(SingleFuelEndUseEnumeration(all_enduses, [All], [All End-uses], fuel = 'Electricity', units = 'MWh'), SingleFuelEndUseEnumeration(all_enduses, [All], [All End-uses], fuel = 'Electricity', units = 'TWh')) and writing to C:\\Users\\ehale\\Documents\\dsgrid-legacy-efs\\industrial_gaps-annual-conus-allsectors-allenduses-TWh.dsg\n",
      "\n",
      "industrial_gaps.dsg describes 186.3523712158203 TWh of electricity\n"
     ]
    }
   ],
   "source": [
    "from dsgrid.dataformat.dimmap import FilterToSingleFuelMap, FullAggregationMap, UnitConversionMap\n",
    "from dsgrid.dataformat.enumeration import MultiFuelEndUseEnumeration, allsectors, conus, allenduses, annual\n",
    "\n",
    "# USER INPUT ----------------------------------------\n",
    "# Applying a map requires making a new HDF5 file on disk\n",
    "overwrite = True\n",
    "energy_units = \"TWh\"\n",
    "# ---------------------------------------------------\n",
    "\n",
    "mappings = [\n",
    "    ('-annual', FullAggregationMap(datafile.time_enum, annual)),\n",
    "    ('-conus', FullAggregationMap(datafile.geo_enum, conus)),\n",
    "    ('-allsectors', FullAggregationMap(datafile.sector_enum, allsectors)),    \n",
    "]\n",
    "\n",
    "# handle multi-fuel enduse enums\n",
    "enduse_enum = datafile.enduse_enum\n",
    "if isinstance(enduse_enum, MultiFuelEndUseEnumeration):\n",
    "    mappings.append(f'-electricity', FilterToSingleFuelMap(enduse_enum, 'Electricity'))\n",
    "    enduse_enum = mappings[-1][1].to_enum\n",
    "\n",
    "# handle different electricity units\n",
    "allenduses_units = allenduses.units(allenduses.ids[0])\n",
    "if not (enduse_enum.units(enduse_enum.ids[0]) == allenduses_units):\n",
    "    mappings.append(f'-{allenduses_units}', UnitConversionMap(\n",
    "        enduse_enum, \n",
    "        [enduse_enum.units(enduse_enum.ids[0])], \n",
    "        [allenduses_units]))\n",
    "    enduse_enum = mappings[-1][1].to_enum\n",
    "\n",
    "mappings.extend([\n",
    "    ('-allenduses', FullAggregationMap(enduse_enum, allenduses)),\n",
    "    (f'-{energy_units}', UnitConversionMap(allenduses, [allenduses.units(allenduses.ids[0])], [energy_units]))\n",
    "])\n",
    "\n",
    "new_datafile = datafile\n",
    "for postfix, mapping in mappings:\n",
    "    new_path = output_dir / (new_datafile.filepath.stem + postfix + new_datafile.filepath.suffix)\n",
    "    if new_path.exists() and overwrite:\n",
    "        new_path.unlink()\n",
    "    print(f\"Applying {mapping} and writing to {new_path}\\n\")\n",
    "    new_datafile = new_datafile.map_dimension(new_path, mapping)\n",
    "    \n",
    "total_energy = Datatable(new_datafile).data.sum()\n",
    "print(f\"{datafile.filepath.name} describes {total_energy} {energy_units} of electricity\")"
   ]
  },
  {
   "cell_type": "code",
   "execution_count": null,
   "id": "7ed204d7",
   "metadata": {},
   "outputs": [],
   "source": []
  }
 ],
 "metadata": {
  "kernelspec": {
   "display_name": "Python 3 (ipykernel)",
   "language": "python",
   "name": "python3"
  },
  "language_info": {
   "codemirror_mode": {
    "name": "ipython",
    "version": 3
   },
   "file_extension": ".py",
   "mimetype": "text/x-python",
   "name": "python",
   "nbconvert_exporter": "python",
   "pygments_lexer": "ipython3",
   "version": "3.9.2"
  }
 },
 "nbformat": 4,
 "nbformat_minor": 5
}
